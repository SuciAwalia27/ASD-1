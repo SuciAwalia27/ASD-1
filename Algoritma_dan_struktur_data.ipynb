{
  "nbformat": 4,
  "nbformat_minor": 0,
  "metadata": {
    "colab": {
      "name": "ASD",
      "provenance": [],
      "collapsed_sections": [],
      "authorship_tag": "ABX9TyMpkL5PryuoCxtP5/me8Gh7",
      "include_colab_link": true
    },
    "kernelspec": {
      "name": "python3",
      "display_name": "Python 3"
    },
    "language_info": {
      "name": "python"
    }
  },
  "cells": [
    {
      "cell_type": "markdown",
      "metadata": {
        "id": "view-in-github",
        "colab_type": "text"
      },
      "source": [
        "<a href=\"https://colab.research.google.com/github/SuciAwalia27/ASD-1/blob/main/ASD.ipynb\" target=\"_parent\"><img src=\"https://colab.research.google.com/assets/colab-badge.svg\" alt=\"Open In Colab\"/></a>"
      ]
    },
    {
      "cell_type": "code",
      "source": [
        "#Variabel adalah tempat menyimpan data\n",
        "#tipe data ada 4 jenis\n",
        "#(string,boolean,integer,dan float)\n",
        "\n",
        "Nama =\"suci awalia\"#adalah tipe data string\n",
        "Kelas = \"informatika F\"#adalah tipe data string\n",
        "Nilai_bahasa = 7.5#adalah tipe float\n",
        "Nilai_agama= 8#adalah tipe data integer\n",
        "mahasiswa=True#adalah tipe data boolean\n",
        "\n",
        "print(\"Nama saya   :\"+Nama)\n",
        "print(\"Kelas       :\"+Kelas)\n",
        "print(\"Nilai_bahasa:\",Nilai_bahasa)\n",
        "print(\"Nilai agama :\",Nilai_agama)\n",
        "if mahasiswa:\n",
        "  print(\"saya adalah mahasiswa\")"
      ],
      "metadata": {
        "colab": {
          "base_uri": "https://localhost:8080/"
        },
        "id": "PoAIjz2FEVp4",
        "outputId": "3fa47431-8b03-49d1-9477-f1c8b3b5dd96"
      },
      "execution_count": null,
      "outputs": [
        {
          "output_type": "stream",
          "name": "stdout",
          "text": [
            "Nama saya   :suci awalia\n",
            "Kelas       :informatika F\n",
            "Nilai_bahasa: 7.5\n",
            "Nilai agama : 8\n",
            "saya adalah mahasiswa\n"
          ]
        }
      ]
    },
    {
      "cell_type": "code",
      "source": [
        "#Operator aritmetika\n",
        "#penjumlahan(+)\n",
        "#pengurangan(-)\n",
        "#perkalian(*)\n",
        "#perpangkatan(**)\n",
        "#pembgian(/)\n",
        "#sisa bagi(%)\n",
        "#pembagian bilangan bulat(//)\n",
        "\n",
        "\n",
        "#Penjumlahan\n",
        "nilaiA=4\n",
        "nilaiB=8\n",
        "Hasil= nilaiA + nilaiB\n",
        "print(nilaiA,\"+\",nilaiB, \"=\",Hasil)\n",
        "\n",
        "#Pengurangan\n",
        "nilaiA=4\n",
        "nilaiB=8\n",
        "Hasil= nilaiA - nilaiB\n",
        "print(nilaiA,\"-\",nilaiB, \"=\",Hasil)\n",
        "\n",
        "#Perkalian\n",
        "nilaiA=4\n",
        "nilaiB=8\n",
        "Hasil= nilaiA * nilaiB\n",
        "print(nilaiA,\"*\",nilaiB, \"=\",Hasil)\n",
        "#perpangkatan\n",
        "nilaiA=4\n",
        "nilaiB=8\n",
        "Hasil= nilaiA ** nilaiB\n",
        "print(nilaiA,\"**\",nilaiB,\"=\",Hasil)\n",
        "\n",
        "#pembagian\n",
        "nilaiA=4\n",
        "nilaiB=8\n",
        "Hasil= nilaiA / nilaiB\n",
        "print(nilaiA,\"/\",nilaiB, \"=\",Hasil)\n",
        "#sisa bagi\n",
        "NilaiA=4 \n",
        "NilaiB=8\n",
        "Hasil=NilaiA % nilaiB\n",
        "print(nilaiA,\"%\",nilaiB, \"=\",Hasil)\n",
        "#pembagian bilangan bulat\n",
        "NilaiA=4\n",
        "NilaiB=8\n",
        "Hasil= nilaiA // nilaiB\n",
        "print(nilaiA,\"//\",nilaiB,\"=\",Hasil)"
      ],
      "metadata": {
        "colab": {
          "base_uri": "https://localhost:8080/"
        },
        "id": "bpQ5YIlLHeYr",
        "outputId": "f35cf390-b11a-41d3-ae27-f1545ffc7bdc"
      },
      "execution_count": null,
      "outputs": [
        {
          "output_type": "stream",
          "name": "stdout",
          "text": [
            "4 + 8 = 12\n",
            "4 - 8 = -4\n",
            "4 * 8 = 32\n",
            "4 ** 8 = 65536\n",
            "4 / 8 = 0.5\n",
            "4 % 8 = 4\n",
            "4 // 8 = 0\n"
          ]
        }
      ]
    },
    {
      "cell_type": "code",
      "source": [
        "#operator perbandingan\n",
        "#sama dengan (==)\n",
        "#tidak sama dengan(!=)\n",
        "#lebih kecil atau sama dengan(<=)\n",
        "#lebih besar atau sama dengan (>=)\n",
        "\n",
        "#sama dengan\n",
        "a= 5\n",
        "b= 10\n",
        "Hasil= a == b\n",
        "print(a,\"==\",b,\"=\",Hasil)\n",
        "#tidak sama dengan\n",
        "a= 5\n",
        "b= 10\n",
        "Hasil= a != b\n",
        "print(a,\"!=\",b,\"=\",Hasil)\n",
        "#lebih besar atau sama dengan\n",
        "a= 5\n",
        "b= 10\n",
        "Hasil= a >= b\n",
        "print(a,\">=\",b,\"=\",Hasil)#lebih kecil atau sama dengana= 5\n",
        "b= 10\n",
        "Hasil= a <= b\n",
        "print(a,\"<=\",b,\"=\",Hasil)"
      ],
      "metadata": {
        "colab": {
          "base_uri": "https://localhost:8080/"
        },
        "id": "Gz3L7U_oLaad",
        "outputId": "84c2d84a-d896-4a9a-bf85-b16acbb5ec47"
      },
      "execution_count": null,
      "outputs": [
        {
          "output_type": "stream",
          "name": "stdout",
          "text": [
            "5 == 10 = False\n",
            "5 != 10 = True\n",
            "5 >= 10 = False\n",
            "5 <= 10 = True\n"
          ]
        }
      ]
    },
    {
      "cell_type": "code",
      "source": [
        "#Operator logika\n",
        "#not,or,and\n",
        "\n",
        "#not adalah kebalikan dari data awal\n",
        "b= True\n",
        "c= not b\n",
        "print(\"data c:\",b)\n",
        "\n",
        "b= False\n",
        "c= not b\n",
        "print(\"data c:\",b)"
      ],
      "metadata": {
        "colab": {
          "base_uri": "https://localhost:8080/"
        },
        "id": "Xr6UIRvhTh94",
        "outputId": "e56af0db-bfbc-4f4c-c753-d295fcfe4d6f"
      },
      "execution_count": null,
      "outputs": [
        {
          "output_type": "stream",
          "name": "stdout",
          "text": [
            "data c: True\n",
            "data c: False\n"
          ]
        }
      ]
    },
    {
      "cell_type": "code",
      "source": [
        "#or jika salah satunya bernilai true maka hasilnya akan true\n",
        "b=True\n",
        "c=True\n",
        "d=b or c\n",
        "print(b,\"or\",c,\"=\",d)\n",
        "\n",
        "b=True\n",
        "c=False\n",
        "d=b or c\n",
        "print(b,\"or\",c,\"=\",d)\n",
        "\n",
        "b=False\n",
        "c=True\n",
        "d=b or c\n",
        "print(b,\"or\",c,\"=\",d)\n",
        "\n",
        "b=False\n",
        "c=False\n",
        "d=b or c\n",
        "print(b,\"or\",c,\"=\",d)"
      ],
      "metadata": {
        "colab": {
          "base_uri": "https://localhost:8080/"
        },
        "id": "QeE5R0-8Wr_o",
        "outputId": "4e735e34-d548-475e-8c15-75f919393b76"
      },
      "execution_count": null,
      "outputs": [
        {
          "output_type": "stream",
          "name": "stdout",
          "text": [
            "True or True = True\n",
            "True or False = True\n",
            "False or True = True\n",
            "False or False = False\n"
          ]
        }
      ]
    },
    {
      "cell_type": "code",
      "source": [
        "#and jika salah satunya bernilai false maka hasilnya akan false\n",
        "b=True\n",
        "c=True\n",
        "d=b and c\n",
        "print(b,\"and\",c,\"=\",d)\n",
        "\n",
        "b=True\n",
        "c=False\n",
        "d=b and c\n",
        "print(b,\"and\",c,\"=\",d)\n",
        "\n",
        "b=False\n",
        "c=True\n",
        "d=b and c\n",
        "print(b,\"and\",c,\"=\",d)\n",
        "\n",
        "b=False\n",
        "c=False\n",
        "d=b and c\n",
        "print(b,\"and\",c,\"=\",d)"
      ],
      "metadata": {
        "colab": {
          "base_uri": "https://localhost:8080/"
        },
        "id": "dhdAFq_pW3Fw",
        "outputId": "e202fcfd-d13e-425f-d116-ed0379649924"
      },
      "execution_count": null,
      "outputs": [
        {
          "output_type": "stream",
          "name": "stdout",
          "text": [
            "True and True = True\n",
            "True and False = False\n",
            "False and True = False\n",
            "False and False = False\n"
          ]
        }
      ]
    }
  ]
}
