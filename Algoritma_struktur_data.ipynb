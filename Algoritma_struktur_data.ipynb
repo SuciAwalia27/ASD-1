#Variabel adalah tempat menyimpan data
#tipe data ada 4 jenis
#(string,boolean,integer,dan float)

Nama ="suci awalia"#adalah tipe data string
Kelas = "informatika F"#adalah tipe data string
Nilai_bahasa = 7.5#adalah tipe float
Nilai_agama= 8#adalah tipe data integer
mahasiswa=True#adalah tipe data boolean

print("Nama saya   :"+Nama)
print("Kelas       :"+Kelas)
print("Nilai_bahasa:",Nilai_bahasa)
print("Nilai agama :",Nilai_agama)
if mahasiswa:
  print("saya adalah mahasiswa")
  
  
#Operator aritmetika
#penjumlahan(+)
#pengurangan(-)
#perkalian(*)
#perpangkatan(**)
#pembgian(/)
#sisa bagi(%)
#pembagian bilangan bulat(//)


#Penjumlahan
nilaiA=4
nilaiB=8
Hasil= nilaiA + nilaiB
print(nilaiA,"+",nilaiB, "=",Hasil)

#Pengurangan
nilaiA=4
nilaiB=8
Hasil= nilaiA - nilaiB
print(nilaiA,"-",nilaiB, "=",Hasil)

#Perkalian
nilaiA=4
nilaiB=8
Hasil= nilaiA * nilaiB
print(nilaiA,"*",nilaiB, "=",Hasil)
#perpangkatan
nilaiA=4
nilaiB=8
Hasil= nilaiA ** nilaiB
print(nilaiA,"**",nilaiB,"=",Hasil)

#pembagian
nilaiA=4
nilaiB=8
Hasil= nilaiA / nilaiB
print(nilaiA,"/",nilaiB, "=",Hasil)
#sisa bagi
NilaiA=4
NilaiB=8
Hasil=NilaiA % nilaiB
print(nilaiA,"%",nilaiB, "=",Hasil)
#pembagian bilangan bulat
NilaiA=4
NilaiB=8
Hasil= nilaiA // nilaiB
print(nilaiA,"//",nilaiB,"=",Hasil
